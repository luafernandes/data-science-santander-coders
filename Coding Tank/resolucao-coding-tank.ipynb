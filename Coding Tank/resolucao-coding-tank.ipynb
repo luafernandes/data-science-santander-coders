{
  "cells": [
    {
      "cell_type": "markdown",
      "metadata": {
        "id": "lRqPGhLcgvWi"
      },
      "source": [
        "**RESOLUÇÕES EXERCÍCIOS CODING TANK 2023.2 | DATA SCIENCE**\n",
        "\n",
        "15/12/2023"
      ]
    },
    {
      "cell_type": "markdown",
      "metadata": {
        "id": "ldfRc-L_hL9_"
      },
      "source": [
        "**Questão 01:**\n",
        "\n",
        "Letra b, será uma str, para ser bool o código precisaria converter da seguinte maneira: i = bool(input('Você sabe o que é uma RENDA FIXA?: ')"
      ]
    },
    {
      "cell_type": "markdown",
      "metadata": {
        "id": "zN2QrqydjJtS"
      },
      "source": [
        "**Questão 02:**\n",
        "\n",
        "Letra e, para calcular o produto no Python utilizamos (*) e para calcular a soma utilizamos o (+), nas demais opções os operadores não estão corretos."
      ]
    },
    {
      "cell_type": "markdown",
      "metadata": {
        "id": "V_ZlIN_CjvG1"
      },
      "source": [
        "**Questão 03:**\n",
        "\n",
        "Letra e, o primeiro item de uma lista é o item [0] e para calcular os anos é necessário subtrair o ano atual - ano da lista, este ano da lista se encontra no segundo elemento, ou seja, [1]."
      ]
    },
    {
      "cell_type": "markdown",
      "metadata": {
        "id": "EJa_3Lhelqgk"
      },
      "source": [
        "**Questão 04:**\n",
        "\n",
        "Letra c, não é considerado lista usando parênteses."
      ]
    },
    {
      "cell_type": "markdown",
      "metadata": {
        "id": "3QMmfSN9nzE_"
      },
      "source": [
        "**Questão 05:**\n",
        "\n",
        "Letra c, num_chamados -= 1, a uma vez que a ideia aqui é ser um número baixo de chamados para que o alerta não seja acionado."
      ]
    },
    {
      "cell_type": "markdown",
      "metadata": {
        "id": "XXsn4EEaopot"
      },
      "source": [
        "**Questão 06:**\n",
        "\n",
        "Dica 1: o tempo necessário para percorrer uma dada distância à velocidade constante é dado pelo quociente entre a distância e a velocidade.\n",
        "\n",
        "Dica 2: 1 m/s = 3,6 km/h. Atenção às unidades!\n"
      ]
    },
    {
      "cell_type": "code",
      "execution_count": 4,
      "metadata": {
        "colab": {
          "base_uri": "https://localhost:8080/"
        },
        "id": "3s87h7D9pLiY",
        "outputId": "d69ec7f8-f2b1-490f-aa4f-de5dfb30a9d4"
      },
      "outputs": [
        {
          "name": "stdout",
          "output_type": "stream",
          "text": [
            "Digite o tempo em minutos: 60\n",
            "\n",
            "A distância entre os dois locais é 90.0 km!\n"
          ]
        }
      ],
      "source": [
        "velocidade = 25 # esta em m/s\n",
        "\n",
        "velocidade_convertida = velocidade * 3.6 # para converter para km/h\n",
        "\n",
        "tempo = int(input('Digite o tempo em minutos: ')) # código para receber como input do usuário o tempo em minutos\n",
        "\n",
        "distancia = velocidade_convertida * (tempo/60) # código que implementa a lógica da distância em km, tempo divido por 60 para transformar os minutos em hora\n",
        "\n",
        "print(f\"\\nA distância entre os dois locais é {distancia} km!\")"
      ]
    },
    {
      "cell_type": "markdown",
      "metadata": {
        "id": "fhLoAsH1qWr5"
      },
      "source": [
        "**Questão 07:**"
      ]
    },
    {
      "cell_type": "code",
      "execution_count": 47,
      "metadata": {
        "colab": {
          "base_uri": "https://localhost:8080/"
        },
        "id": "spcvupg8q5wP",
        "outputId": "d7aa72bd-c6eb-45db-dd95-7bdec6434816"
      },
      "outputs": [
        {
          "name": "stdout",
          "output_type": "stream",
          "text": [
            "Digite um número: 4\n",
            "Gostaria de inserir um número? [S/N] s\n",
            "Digite um número: 3\n",
            "Gostaria de inserir um número? [S/N] s\n",
            "Digite um número: 2\n",
            "Gostaria de inserir um número? [S/N] s\n",
            "Digite um número: 4\n",
            "Gostaria de inserir um número? [S/N] n\n",
            "[4, 3, 2, 4]\n",
            "[2, 3, 4, 4]\n",
            "A média dos valores digitados é 3.25\n",
            "Os números pares são [4, 2, 4]\n",
            "Os números ímpares são [3]\n",
            "Os números repetidos são [4]\n"
          ]
        }
      ],
      "source": [
        "identificador = [] # Para criar a lista dos identificadores dos clientes\n",
        "\n",
        "while True:\n",
        "    numero = (int(input('Digite um número: ')))\n",
        "    identificador.append(numero)\n",
        "    inserir_numero = input('Gostaria de inserir um número? [S/N] ').upper()\n",
        "    if (inserir_numero != 'S') and (inserir_numero != 'N'):\n",
        "        inserir_numero = input('Opção inválida. Gostaria de inserir um número? [S/N] ').upper()\n",
        "    elif inserir_numero == 'N':\n",
        "        break\n",
        "\n",
        "# Pares\n",
        "pares = []\n",
        "for i in identificador:\n",
        "    if i % 2 == 0:\n",
        "        pares.append(i)\n",
        "\n",
        "# Ímpares\n",
        "impares = []\n",
        "for i in identificador:\n",
        "    if i % 2 != 0:\n",
        "        impares.append(i)\n",
        "\n",
        "# Repetidos\n",
        "freq={}\n",
        "for i in identificador:\n",
        "    if i in freq:\n",
        "        freq[i]+=1\n",
        "    else:\n",
        "        freq[i]=1\n",
        "\n",
        "repetidos = []\n",
        "for i in freq:\n",
        "    if(freq[i]>1):\n",
        "        repetidos.append(i)\n",
        "\n",
        "print(identificador)\n",
        "print(sorted(identificador))\n",
        "print(f'A média dos valores digitados é {sum(identificador) / len(identificador)}')\n",
        "print(f'Os números pares são {pares}')\n",
        "print(f'Os números ímpares são {impares}')\n",
        "print(f'Os números repetidos são {repetidos}')"
      ]
    },
    {
      "cell_type": "markdown",
      "metadata": {
        "id": "-PoskNkms3-6"
      },
      "source": [
        "**Questão 08:**"
      ]
    },
    {
      "cell_type": "code",
      "execution_count": 65,
      "metadata": {
        "colab": {
          "base_uri": "https://localhost:8080/"
        },
        "id": "uH9FCoqatywm",
        "outputId": "fb214126-dfdf-4c00-c133-52bc08bb74b5"
      },
      "outputs": [
        {
          "name": "stdout",
          "output_type": "stream",
          "text": [
            "Digite a temperatura que gostaria de converter: 20\n",
            "Digite qual a escala de origem:\n",
            "C- Celsius\n",
            "K - Kelvin\n",
            "F - Fahrenheit\n",
            "c\n",
            "Digite qual a escala de conversão:\n",
            "C- Celsius\n",
            "K - Kelvin\n",
            "F - Fahrenheit\n",
            "f\n",
            " A temperatura 20.0C em Fahrenheit é de 68.0\n",
            "Programa Finalizado!\n"
          ]
        }
      ],
      "source": [
        "temperatura = float(input('Digite a temperatura que gostaria de converter: ')) # código para receber o valor numérico da temperatura desejada\n",
        "\n",
        "# Perguntando sobre a escala original, pensando nas temperaturas inexistentes:\n",
        "escala_original = input('Digite qual a escala de origem:\\nC- Celsius\\nK - Kelvin\\nF - Fahrenheit\\n').upper() # código para receber a escala original da temperatura informada\n",
        "while( escala_original != 'C' and  escala_original != 'K' and escala_original != 'F' ):\n",
        "    escala_original = input('Opção inválida! Digite qual a escala de origem:\\nC- Celsius\\nK - Kelvin\\nF - Fahrenheit\\n').upper()\n",
        "\n",
        "while (escala_original == 'K' and temperatura < 0):\n",
        "    temperatura = float(input('Não existe temperatura menor do que 0 Kelvin, insira uma temperatura maior ou igual a 0:'))\n",
        "\n",
        "# Perguntando sobre a escala desejada, pensando nas temperaturas inexistentes:\n",
        "escala_convertida = input('Digite qual a escala de conversão:\\nC- Celsius\\nK - Kelvin\\nF - Fahrenheit\\n').upper() # código para receber a escala original da temperatura informada\n",
        "while( escala_convertida != 'C' and  escala_convertida != 'K' and escala_convertida != 'F' ):\n",
        "    escala_convertida = input('Opção inválida! Digite qual a escala de conversão:\\nC- Celsius\\nK - Kelvin\\nF - Fahrenheit\\n').upper()\n",
        "\n",
        "# Convertendo as temperaturas com base nas equações dadas:\n",
        "nova_temperatura = 0\n",
        "if (escala_original == 'C') and (escala_convertida == 'F'):\n",
        "    nova_temperatura = (9 * (temperatura/5)) + 32\n",
        "    print(f' A temperatura {temperatura}C em Fahrenheit é de {nova_temperatura}')\n",
        "elif (escala_original == 'C') and (escala_convertida == 'K'):\n",
        "    nova_temperatura = temperatura + 273\n",
        "    print(f' A temperatura {temperatura}C em Kelvin é de {nova_temperatura}')\n",
        "elif (escala_original == 'K') and (escala_convertida == 'C'):\n",
        "    nova_temperatura = temperatura - 273\n",
        "    print(f' A temperatura {temperatura}K em Celsius é de {nova_temperatura}')\n",
        "elif (escala_original == 'K') and (escala_convertida == 'F'):\n",
        "    nova_temperatura = ((temperatura - 273)/5) * 9 + 32\n",
        "    print(f' A temperatura {temperatura}K em Fahrenheit é de {nova_temperatura}')\n",
        "elif (escala_original == 'F') and (escala_convertida == 'C'):\n",
        "    nova_temperatura = ((temperatura - 32)/9) * 5\n",
        "    print(f' A temperatura {temperatura}F em Celsius é de {nova_temperatura}')\n",
        "elif (escala_original == 'F') and (escala_convertida == 'K'):\n",
        "    nova_temperatura = ((temperatura - 32)/9) * 5 + 273\n",
        "    print(f'A temperatura {temperatura}F em Kelvin é de {nova_temperatura}')\n",
        "print('Programa Finalizado!')"
      ]
    },
    {
      "cell_type": "markdown",
      "metadata": {
        "id": "5AAnsrZR96Zz"
      },
      "source": [
        "**Questão 09:**"
      ]
    },
    {
      "cell_type": "code",
      "execution_count": 63,
      "metadata": {
        "colab": {
          "base_uri": "https://localhost:8080/"
        },
        "id": "FZ72sKNnBtt8",
        "outputId": "028b51ed-009a-40e6-be43-c1305803240f"
      },
      "outputs": [
        {
          "name": "stdout",
          "output_type": "stream",
          "text": [
            "Crediário 3\n",
            "Consórcio 3\n",
            "Financiamento 1\n",
            "Empréstimo 1\n",
            "Cheque Especial 1\n",
            "Cartão de Crédito 2\n"
          ]
        }
      ],
      "source": [
        "nome_produtos =  [\"Crediário\", \"Consórcio\", \"Consórcio\", \"Financiamento\", \"Investimento\", \"Cheque Especial\", \"Consórcio\", \"Crediário\", \"Empréstimo\", \"Cheque Especial\", \"Cartão de Crédito\", \"Crediário\", \"Cartão de Crédito\"]\n",
        "freq={}\n",
        "\n",
        "for i in nome_produtos:\n",
        "    if i in freq:\n",
        "        freq[i]+=1\n",
        "    else:\n",
        "        freq[i]=1\n",
        "\n",
        "for i in freq:\n",
        "    print(i, freq[i])"
      ]
    },
    {
      "cell_type": "markdown",
      "metadata": {
        "id": "b4_KrhMx99IL"
      },
      "source": [
        "**Questão 10:**"
      ]
    },
    {
      "cell_type": "code",
      "execution_count": 51,
      "metadata": {
        "colab": {
          "base_uri": "https://localhost:8080/"
        },
        "id": "ZM7xMZWu-HLR",
        "outputId": "f39a1222-bd15-4ae5-bce0-8a9d84edf57d"
      },
      "outputs": [
        {
          "name": "stdout",
          "output_type": "stream",
          "text": [
            "[151.3785714285714, 149.83285714285714, 149.02857142857144, 149.49428571428572, 151.3485714285714, 151.32857142857142, 150.97714285714284, 150.89714285714285, 151.79714285714286, 151.15142857142857, 152.08285714285714, 152.2971428571429, 153.17, 154.94142857142856, 153.66714285714286, 153.98571428571427, 155.8385714285714, 155.1942857142857, 153.73428571428573, 151.70714285714286, 150.37000000000003, 151.23000000000002, 151.75285714285715, 151.94571428571427]\n"
          ]
        }
      ],
      "source": [
        "valores_dos_fechamentos = [\n",
        "    156.89, 155.16, 148.41, 145.18, 150.23, 148.10, 155.68,\n",
        "    146.07, 149.53, 151.67, 158.16, 150.09, 145.64, 155.12,\n",
        "    152.37, 145.01, 158.19, 159.66, 156.20, 158.04, 146.20,\n",
        "    154.60, 157.98, 153.68, 149.44, 142.01, 148.68, 152.22,\n",
        "    158.26, 159.33\n",
        "]\n",
        "\n",
        "# Quantidade de valores:\n",
        "n = len(valores_dos_fechamentos)\n",
        "\n",
        "medias_moveis = []\n",
        "\n",
        "for i in range (0, n):\n",
        "  soma = 0\n",
        "\n",
        "  #para de calcular se passou do ultimo periodo\n",
        "  if i+7> n:\n",
        "    break\n",
        "  for j in range( i , i + 7 ):\n",
        "    soma += valores_dos_fechamentos[j]\n",
        "\n",
        "  media = soma/7\n",
        "  medias_moveis.append(media)\n",
        "\n",
        "print(medias_moveis)"
      ]
    }
  ],
  "metadata": {
    "colab": {
      "provenance": []
    },
    "kernelspec": {
      "display_name": "Python 3",
      "name": "python3"
    },
    "language_info": {
      "name": "python"
    }
  },
  "nbformat": 4,
  "nbformat_minor": 0
}
