{
  "cells": [
    {
      "cell_type": "markdown",
      "metadata": {
        "id": "p02x8fgsZFZz"
      },
      "source": [
        "## Slice\n",
        "Apesar de utilizarmos listas para armazenar vários elementos, existem situações em que precisamos utilizar apenas parte desta lista. Por exemplo, podemos guardar em uma lista de 30 elementos com o registro do preço do dólar a cada dia nos últimos 30 dias. Posteriormente, podemos querer visualizar o custo do dólar apenas nos últimos 7 dias, para isso pegando os últimos 7 elementos da lista ao invés de 30.\n",
        "\n",
        "Em python, quando selecionamos partes da lista, denominamos esta operação de slicing, podendo ser realizada não apenas para seleção dos últimos elementos da lista, como também elementos em qualquer posição da lista.\n",
        "\n",
        "Sabendo disso, crie uma função particionarLista() em python que recebe uma lista e retorne apenas os elementos das posições 5 até 12."
      ]
    },
    {
      "cell_type": "code",
      "execution_count": 18,
      "metadata": {
        "id": "57-5zOQaZSF4"
      },
      "outputs": [],
      "source": [
        "listaA = [\n",
        "  47,\n",
        "  27,\n",
        "  25,\n",
        "  27,\n",
        "  13,\n",
        "  47,\n",
        "  49,\n",
        "  39,\n",
        "  9,\n",
        "  45,\n",
        "  13,\n",
        "  37\n",
        "]"
      ]
    },
    {
      "cell_type": "code",
      "execution_count": 19,
      "metadata": {
        "colab": {
          "base_uri": "https://localhost:8080/"
        },
        "id": "ysEv1L4_ZNJa",
        "outputId": "ad89caa3-e93b-4e8b-c973-0b78396e3828"
      },
      "outputs": [
        {
          "data": {
            "text/plain": [
              "[47, 49, 39, 9, 45, 13, 37]"
            ]
          },
          "execution_count": 19,
          "metadata": {},
          "output_type": "execute_result"
        }
      ],
      "source": [
        "def particionarLista(listaA):\n",
        "\treturn listaA[5:12]\n",
        "\n",
        "particionarLista(listaA)"
      ]
    },
    {
      "cell_type": "markdown",
      "metadata": {
        "id": "1G0xMxHVZE0-"
      },
      "source": [
        "## Ordenando listas\n",
        "Em um sistema, comumente utilizamos listas para armazenamento de dados. Entretanto, existem casos em que torna-se necessário criarmos um padrão de organização dos dados. Por exemplo, podemos organizar um cadastro de clientes pela idade destes usuários. Este procedimento de organização é conhecido como ordenação.\n",
        "\n",
        "Sabendo disso, crie uma função chamada ordena_lista() que recebe uma lista de elementos e ordene-os em ordem decrescente. A função possui como parâmetro a lista a ser ordenada e retorna a mesma lista ordenada de forma decrescente."
      ]
    },
    {
      "cell_type": "code",
      "execution_count": 20,
      "metadata": {
        "id": "pp85WKq2aUQl"
      },
      "outputs": [],
      "source": [
        "listaA = [\n",
        "  47,\n",
        "  27,\n",
        "  25,\n",
        "  27,\n",
        "  13,\n",
        "  47,\n",
        "  49,\n",
        "  39,\n",
        "  9,\n",
        "  45,\n",
        "  13,\n",
        "  37\n",
        "]"
      ]
    },
    {
      "cell_type": "code",
      "execution_count": 21,
      "metadata": {
        "colab": {
          "base_uri": "https://localhost:8080/"
        },
        "id": "-U9HAEBfZErj",
        "outputId": "762a991c-5c59-4915-e934-c36d624b5ddb"
      },
      "outputs": [
        {
          "data": {
            "text/plain": [
              "[49, 47, 47, 45, 39, 37, 27, 27, 25, 13, 13, 9]"
            ]
          },
          "execution_count": 21,
          "metadata": {},
          "output_type": "execute_result"
        }
      ],
      "source": [
        "def ordena_lista(listaA):\n",
        "\treturn sorted(listaA, reverse=True)\n",
        "\n",
        "sorted(listaA, reverse=True)"
      ]
    },
    {
      "cell_type": "markdown",
      "metadata": {
        "id": "RUaxHPv8ZEgV"
      },
      "source": [
        "## Indexação de listas e último elemento\n",
        "Uma lista possui n elementos, sendo comum executarmos determinadas ações em um elemento de determinada posição. Por exemplo, podemos substituir o elemento da primeira posição da lista por outro valor desejado. Quando selecionamos um elemento, chamamos isto de indexação.\n",
        "\n",
        "Sendo assim, escreva uma função ultimoElemento() em python que recebe uma lista e retorna o último elemento da lista."
      ]
    },
    {
      "cell_type": "code",
      "execution_count": 22,
      "metadata": {
        "colab": {
          "base_uri": "https://localhost:8080/"
        },
        "id": "cy-2B7sxZEO7",
        "outputId": "75973ea6-fcd3-49dc-f526-654783497722"
      },
      "outputs": [
        {
          "data": {
            "text/plain": [
              "37"
            ]
          },
          "execution_count": 22,
          "metadata": {},
          "output_type": "execute_result"
        }
      ],
      "source": [
        "def ultimoElemento(listaA):\n",
        "\treturn listaA[-1]\n",
        "\n",
        "listaA[-1]"
      ]
    },
    {
      "cell_type": "markdown",
      "metadata": {
        "id": "5hcwItRpY29m"
      },
      "source": [
        "#Elementos individuais de listas\n",
        "Muitas vezes, precisamos acessar elementos individuais de listas, o que é possível de ser feito a partir de sua indexação.\n",
        "\n",
        "Sabendo disso, crie uma função retornaPenultimoEQuartoElementodeLista() que recebe uma lista e retorne o quarto e o penúltimo elemento desta lista, nesta ordem."
      ]
    },
    {
      "cell_type": "code",
      "execution_count": 23,
      "metadata": {
        "id": "zoktcBvga_0e"
      },
      "outputs": [],
      "source": [
        "listaA=[\n",
        "  20,\n",
        "  88,\n",
        "  55,\n",
        "  7,\n",
        "  85\n",
        "]"
      ]
    },
    {
      "cell_type": "code",
      "execution_count": 24,
      "metadata": {
        "colab": {
          "base_uri": "https://localhost:8080/"
        },
        "id": "44nzBI0oYxDQ",
        "outputId": "5b351e17-e04a-4324-9284-416e53e6d20a"
      },
      "outputs": [
        {
          "data": {
            "text/plain": [
              "[7, 7]"
            ]
          },
          "execution_count": 24,
          "metadata": {},
          "output_type": "execute_result"
        }
      ],
      "source": [
        "def retornaPenultimoEQuartoElementodeLista(listaA):\n",
        "    quarto_elemento = listaA[3]\n",
        "    penultimo_elemento = listaA[-2]\n",
        "    return [quarto_elemento, penultimo_elemento]\n",
        "\n",
        "retornaPenultimoEQuartoElementodeLista(listaA)"
      ]
    },
    {
      "cell_type": "markdown",
      "metadata": {
        "id": "tSXNezQYgod1"
      },
      "source": [
        "## Elemento e índice\n",
        "Em python, muitas vezes é útil iterarmos tanto pelos elementos quanto pelos índices de listas. Sabendo disso, crie uma função calculaPotencia() que recebe uma lista A e retorna uma lista B, tal que os elementos desta lista sejam iguais aos elementos da lista A elevado a potência igual ao índice do respectivo elemento.\n",
        "\n",
        "Por exemplo, dado uma lista A = [2,5,6], gere uma lista B = [2^0, 5^1, 6^2]."
      ]
    },
    {
      "cell_type": "code",
      "execution_count": 25,
      "metadata": {
        "id": "GMmCtrpRgqZQ"
      },
      "outputs": [],
      "source": [
        "def calculaPotencia(listaA):\n",
        "    listaB = []\n",
        "    for i, elem in enumerate(listaA):\n",
        "        listaB.append(elem**i)\n",
        "    return listaB"
      ]
    },
    {
      "cell_type": "code",
      "execution_count": 26,
      "metadata": {
        "colab": {
          "base_uri": "https://localhost:8080/"
        },
        "id": "qIy5ibPsyzWK",
        "outputId": "d70da65e-ea66-4f1a-9ffa-5f517be446b6"
      },
      "outputs": [
        {
          "data": {
            "text/plain": [
              "[1, 5, 36]"
            ]
          },
          "execution_count": 26,
          "metadata": {},
          "output_type": "execute_result"
        }
      ],
      "source": [
        "calculaPotencia([2,5,6])"
      ]
    },
    {
      "cell_type": "markdown",
      "metadata": {
        "id": "GD09jxVUj029"
      },
      "source": [
        "## Função zip\n",
        "Em programação, podemos fazer uso de diferentes listas para armazenar nossos dados para, posteriormente, unir informações destas listas. Por exemplo, podemos guardar em uma lista os nomes de funcionários de uma empresa e, em outra lista, os cargos que estes funcionários ocupam.\n",
        "\n",
        "```\n",
        "funcionarios = [\"Paulo\", \"Andrea\", \"Marta\"]\n",
        "profissao = [\"cientista de dados\", \"engenheiro de dados\", \"desenvolvedor\"]\n",
        "```\n",
        "\n",
        "Dado essas duas listas, podemos querer exibir as duas informações conjuntamente da seguinte forma:\n",
        "```\n",
        "[('Paulo', 'cientista de dados'), ('Andrea', 'engenheiro de dados'), ('Marta', 'desenvolvedor')]\n",
        "```\n",
        "\n",
        "Podemos fazer isto por meio da função zip que recebe as duas listas e retorna uma saída como exposta acima. Além de exibir os valores, podemos fazer uso da função zip para diversas funcionalidades. Sabendo disso, crie uma função ultimoElementoLista2D() que receba uma lista de duas dimensões (isto é, uma lista de listas, na forma de matriz) e utilize o zip para retornar o último elemento de cada sublista.\n",
        "\n",
        "Por exemplo, se tivermos a lista abaixo:\n",
        "```\n",
        "[[192, 193, 194],\n",
        " [507, 508, 509],\n",
        " [526, 527, 528, 529],\n",
        " [560, 561],\n",
        " [635, 636, 637]]\n",
        " ```\n",
        "\n",
        "Retorne\n",
        "\n",
        "```[194, 509, 529, 561, 637].```"
      ]
    },
    {
      "cell_type": "code",
      "execution_count": 27,
      "metadata": {
        "id": "Fv9YTguOKBQ7"
      },
      "outputs": [],
      "source": [
        "listaA = [[192, 193, 194],\n",
        " [507, 508, 509],\n",
        " [526, 527, 528, 529],\n",
        " [560, 561],\n",
        " [635, 636, 637]]"
      ]
    },
    {
      "cell_type": "code",
      "execution_count": 28,
      "metadata": {
        "id": "29m__56yoyzn"
      },
      "outputs": [],
      "source": [
        "def ultimoElementoLista2D(listaA):\n",
        "    return [sublista[-1] for sublista in listaA if sublista]"
      ]
    },
    {
      "cell_type": "code",
      "execution_count": 29,
      "metadata": {
        "colab": {
          "base_uri": "https://localhost:8080/"
        },
        "id": "9DsPgvqSqXcX",
        "outputId": "6a8fdd23-9012-4634-a212-0ba84590949a"
      },
      "outputs": [
        {
          "data": {
            "text/plain": [
              "[194, 509, 529, 561, 637]"
            ]
          },
          "execution_count": 29,
          "metadata": {},
          "output_type": "execute_result"
        }
      ],
      "source": [
        "ultimoElementoLista2D(listaA)"
      ]
    },
    {
      "cell_type": "markdown",
      "metadata": {
        "id": "TM20T_ehxGM6"
      },
      "source": [
        "## Remover elementos de listas\n",
        "Considere que uma empresa desenvolveu uma aplicação que solicita ao usuário uma dada informação, como, por exemplo, o segundo nome deste usuário. O programa recebe essa informação e armazena em uma lista de strings. Entretanto, caso um usuário acidentalmente não tenha preenchido esta informação, a lista conterá elementos vazios. Por exemplo, dada uma lista com 5 nomes:\n",
        "\n",
        "```listaDeNomes = ['Araújo', 'Alexandre', 'Silva', 'Flávio', ''] ```\n",
        ", note que o último elemento da lista é apenas uma string vazia representada pelas aspas vazias.\n",
        "\n",
        "Sabendo disso, faça uma função removerElementosVazios() que recebe uma lista de nomes e retorna a lista sem os elementos vazios."
      ]
    },
    {
      "cell_type": "code",
      "execution_count": 30,
      "metadata": {
        "id": "XlSWvEN0KS1F"
      },
      "outputs": [],
      "source": [
        "listaA = ['Araújo', 'Alexandre', 'Silva', 'Flávio', '']"
      ]
    },
    {
      "cell_type": "code",
      "execution_count": 31,
      "metadata": {
        "id": "SRxwBSD_xblt"
      },
      "outputs": [],
      "source": [
        "def removerElementosVazios(listaA):\n",
        "    listaB = []\n",
        "    for elem in listaA:\n",
        "        if elem != '':\n",
        "            listaB.append(elem)\n",
        "    return listaB"
      ]
    },
    {
      "cell_type": "code",
      "execution_count": 32,
      "metadata": {
        "colab": {
          "base_uri": "https://localhost:8080/"
        },
        "id": "4uVGwc2syUJj",
        "outputId": "3f8472e4-0ec0-445e-bc6a-985398c0c91c"
      },
      "outputs": [
        {
          "data": {
            "text/plain": [
              "['Araújo', 'Alexandre', 'Silva', 'Flávio']"
            ]
          },
          "execution_count": 32,
          "metadata": {},
          "output_type": "execute_result"
        }
      ],
      "source": [
        "removerElementosVazios(listaA)"
      ]
    },
    {
      "cell_type": "markdown",
      "metadata": {
        "id": "Hdb6_fs7ygs9"
      },
      "source": [
        "## Adicionar elementos em listas\n",
        "Quando utilizamos listas, uma das vantagens é que podemos adicionar novos elementos com o passar do tempo. Podemos inserir elementos tanto ao final da lista, como também em uma posição específica.\n",
        "\n",
        "\n",
        "Sabendo disso, faça uma função\n",
        "```adicionarElemento()```\n",
        " que recebe uma lista de números e insere o número inteiro 42 no meio da lista (isto é, em sua posição central). Note que a posição de inserção pode variar a depender da quantidade de elementos na lista original."
      ]
    },
    {
      "cell_type": "code",
      "execution_count": 33,
      "metadata": {
        "id": "mlXsEdMdykIL"
      },
      "outputs": [],
      "source": [
        "def adicionarElemento(listaA):\n",
        "    meio = (len(listaA) + 1) // 2\n",
        "    listaA.insert(meio, 42)\n",
        "    return listaA"
      ]
    },
    {
      "cell_type": "markdown",
      "metadata": {
        "id": "EwcfKUeG1FrI"
      },
      "source": [
        "Testando o resultado:"
      ]
    },
    {
      "cell_type": "code",
      "execution_count": 34,
      "metadata": {
        "colab": {
          "base_uri": "https://localhost:8080/"
        },
        "id": "EXnqscpe1VUj",
        "outputId": "18a10dcb-f7d5-442f-b25f-8a533fa8c73c"
      },
      "outputs": [
        {
          "data": {
            "text/plain": [
              "[1, 2, 3, 42, 4, 5]"
            ]
          },
          "execution_count": 34,
          "metadata": {},
          "output_type": "execute_result"
        }
      ],
      "source": [
        "listaA = [1, 2, 3, 4, 5]\n",
        "adicionarElemento(listaA)"
      ]
    }
  ],
  "metadata": {
    "colab": {
      "provenance": []
    },
    "kernelspec": {
      "display_name": "Python 3",
      "name": "python3"
    },
    "language_info": {
      "codemirror_mode": {
        "name": "ipython",
        "version": 3
      },
      "file_extension": ".py",
      "mimetype": "text/x-python",
      "name": "python",
      "nbconvert_exporter": "python",
      "pygments_lexer": "ipython3",
      "version": "3.12.1"
    }
  },
  "nbformat": 4,
  "nbformat_minor": 0
}
