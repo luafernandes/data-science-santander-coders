{
  "cells": [
    {
      "cell_type": "markdown",
      "metadata": {
        "id": "W_lDdFuPNndE"
      },
      "source": [
        "## Paridade de números por funções lambda\n",
        "Em programação, temos que pensar não apenas na implementação do código propriamente dita para execução correta da tarefa desejada, como também na melhor forma de realizar esta implementação. Com isso, paradigmas de programação foram criados para auxiliar o programador a pensar diferente.\n",
        "\n",
        "Um desses paradigmas é a programação funcional, cujo objetivo é aumentar o determinismo do programa de forma que, caso o programa seja escalável e se torne muito grande, os desenvolvedores não percam o controle do código. Uma forma de fazer programação funcional é por meio de funções lambdas, também conhecidas como \"funções anônimas\", tendo esse nome porque não precisam ser declaradas com um nome.\n",
        "\n",
        "Sabendo disso, crie uma função div2() que recebe uma lista numérica e utiliza uma função lambda para retornar uma lista apenas com elementos da lista original que sejam divisíveis por 2.\n",
        "\n",
        "OBS: em um cenário real, a funçãodiv2() seria utilizada para outras funcionalidades também além da utilização da lambda, de forma a melhorar o determinismo do código."
      ]
    },
    {
      "cell_type": "code",
      "execution_count": null,
      "metadata": {
        "id": "RkjmHnPXNd-L"
      },
      "outputs": [],
      "source": [
        "def div2(listaA):\n",
        "    return list(filter(lambda elem: elem % 2 == 0, listaA))"
      ]
    },
    {
      "cell_type": "code",
      "execution_count": null,
      "metadata": {
        "colab": {
          "base_uri": "https://localhost:8080/"
        },
        "id": "7n70LU0dR0Nz",
        "outputId": "2bef47d5-feb5-4f85-baa1-2e6c8ae979cc"
      },
      "outputs": [
        {
          "data": {
            "text/plain": [
              "[-8, 4, 2, 98, 34]"
            ]
          },
          "execution_count": 3,
          "metadata": {},
          "output_type": "execute_result"
        }
      ],
      "source": [
        "listaA = [-8, 4, 2, 15, 98, 34, 7, 1]\n",
        "div2(listaA)"
      ]
    },
    {
      "cell_type": "markdown",
      "metadata": {
        "id": "7ibzamFISW7Y"
      },
      "source": [
        "## Subtraindo elementos usando funções de alta ordem\n",
        "Em programação, temos que pensar não apenas na implementação do código propriamente dita para execução correta da tarefa desejada, como também na melhor forma de realizar esta implementação. Com isso, paradigmas de programação foram criados para auxiliar o programador a pensar diferente.\n",
        "\n",
        "Um desses paradigmas é o uso de funções de alta ordem, o que permite que realizemos diversas operações em coleções (listas, tuplas, arrays, etc) sem o uso de loops explicitamente.\n",
        "\n",
        "Um dos usos mais comuns é o uso de funções reduce, responsáveis por acumular uma operação ao longo de uma coleção. Sabendo disso, implemente uma função reduceSub() que recebe uma lista, e então faz uso do reduce para realizar a subtração dos números da lista com base no valor inicial 3."
      ]
    },
    {
      "cell_type": "code",
      "execution_count": null,
      "metadata": {
        "id": "EVexbGJJSvoB"
      },
      "outputs": [],
      "source": [
        "from functools import reduce\n",
        "def reduceSub(listaA):\n",
        "    valor_inicial = [3]\n",
        "    return reduce(lambda a,b: a-b, valor_inicial + listaA)"
      ]
    },
    {
      "cell_type": "code",
      "execution_count": null,
      "metadata": {
        "colab": {
          "base_uri": "https://localhost:8080/"
        },
        "id": "BN11WDDlU3Ww",
        "outputId": "5284b3bb-92f6-4642-b328-bad265c714d1"
      },
      "outputs": [
        {
          "data": {
            "text/plain": [
              "-22"
            ]
          },
          "execution_count": 7,
          "metadata": {},
          "output_type": "execute_result"
        }
      ],
      "source": [
        "listaA = [\n",
        "  1,\n",
        "  3,\n",
        "  5,\n",
        "  7,\n",
        "  9\n",
        "]\n",
        "\n",
        "reduceSub(listaA)"
      ]
    },
    {
      "cell_type": "markdown",
      "metadata": {
        "id": "Qe14rFoXU08F"
      },
      "source": [
        "## Utilizando função lambda para calcular quadrado de números\n",
        "Em programação, temos que pensar não apenas na implementação do código propriamente dita para execução correta da tarefa desejada, como também na melhor forma de realizar esta implementação. Com isso, paradigmas de programação foram criados para auxiliar o programador a pensar diferente.\n",
        "\n",
        "Um desses paradigmas é a programação funcional, cujo objetivo é aumentar o determinismo do programa de forma que, caso o programa seja escalável e se torne muito grande, os desenvolvedores não percam o controle do código. Uma forma de fazer programação funcional é por meio de funções lambdas, também conhecidas como \"funções anônimas\", tendo esse nome porque não precisam ser declaradas com um nome.\n",
        "\n",
        "Sabendo disso, crie uma função calcula_quadrado() que recebe uma lista e retorna os elementos desta lista ao quadrado, utilizando função lambda.\n",
        "\n",
        "OBS: em um cenário real, a função calcula_quadrado() seria utilizada para outras funcionalidades também além da utilização da lambda, de forma a melhorar o determinismo do código.\n",
        "\n",
        "OBS2: recomendável uso da função map."
      ]
    },
    {
      "cell_type": "code",
      "execution_count": null,
      "metadata": {
        "id": "hsZlJ1i_VYTn"
      },
      "outputs": [],
      "source": [
        "def calcula_quadrado(listaA):\n",
        "    return list(map(lambda elem: elem**2, listaA))"
      ]
    },
    {
      "cell_type": "code",
      "execution_count": null,
      "metadata": {
        "colab": {
          "base_uri": "https://localhost:8080/"
        },
        "id": "c8LbSGYiVuC1",
        "outputId": "8bfca37b-c699-4e83-e493-85ed7db66d06"
      },
      "outputs": [
        {
          "data": {
            "text/plain": [
              "[9, 2401, 841, 64, 961]"
            ]
          },
          "execution_count": 9,
          "metadata": {},
          "output_type": "execute_result"
        }
      ],
      "source": [
        "listaA = [\n",
        "  3,\n",
        "  49,\n",
        "  29,\n",
        "  8,\n",
        "  31\n",
        "]\n",
        "\n",
        "calcula_quadrado(listaA)"
      ]
    },
    {
      "cell_type": "markdown",
      "metadata": {
        "id": "SuQoZ9y3VYDA"
      },
      "source": [
        "## MapReduce para cálculo de soma dos quadrados\n",
        "Em programação, temos que pensar não apenas na implementação do código propriamente dita para execução correta da tarefa desejada, como também na melhor forma de realizar esta implementação. Com isso, paradigmas de programação foram criados para auxiliar o programador a pensar diferente.\n",
        "\n",
        "Um desses paradigmas é o uso de funções de alta ordem, o que permite que realizemos diversas operações em coleções (listas, tuplas, arrays, etc) sem o uso de loops explicitamente.\n",
        "\n",
        "Um dos usos mais comuns é o uso de funções reduce, responsáveis por acumular uma operação ao longo de uma coleção. Essa função é muito utilizada principalmente em ambientes big data juntamente com a função map.\n",
        "\n",
        "Sabendo disso, crie uma função ger_reduce() que recebe uma lista numérica, e retorna a soma dos quadrados destes números.\n",
        "\n",
        "Obs.: lembre-se que, em Python, devemos importar a função reduce do módulo functools!"
      ]
    },
    {
      "cell_type": "code",
      "execution_count": null,
      "metadata": {
        "id": "wElOEQlZVYsT"
      },
      "outputs": [],
      "source": [
        "from functools import reduce\n",
        "def ger_reduce(listaA):\n",
        "    quadrado = list(map(lambda elem: elem**2, listaA))\n",
        "    return reduce(lambda a,b: a+b, quadrado)"
      ]
    },
    {
      "cell_type": "code",
      "execution_count": null,
      "metadata": {
        "colab": {
          "base_uri": "https://localhost:8080/"
        },
        "id": "tg0IFtaWX6ZS",
        "outputId": "4060c2d6-6f26-422f-c880-d86b9a964137"
      },
      "outputs": [
        {
          "data": {
            "text/plain": [
              "55"
            ]
          },
          "execution_count": 12,
          "metadata": {},
          "output_type": "execute_result"
        }
      ],
      "source": [
        "listaA = [1, 2, 3, 4, 5]\n",
        "\n",
        "ger_reduce(listaA)"
      ]
    },
    {
      "cell_type": "markdown",
      "metadata": {
        "id": "EzidMhC8VXcB"
      },
      "source": [
        "## Total de vendas a partir de dados em arquivo\n",
        "Comumente precisamos lidar com informações que já foram armazenadas em outros locais antes da execução do programa, como uma planilha do excel, de forma a fazer algum processamento com estas informações. Digamos, por exemplo, que uma empresa tenha armazenado dados sobre as vendas dos últimos 5 anos e queira saber a média anual dessas vendas. Podemos acessar estes dados por meio da leitura de arquivos no python para, posteriormente, realizar o cálculo da média. Similarmente, também podemos salvar informações em arquivos no Python para acesso futuro. Utilizando o mesmo exemplo do histórico de vendas, podemos realizar os cálculos de média anual e salvá-lo em um arquivo para enviar para o gerente de vendas.\n",
        "\n",
        "Sabendo disso, crie uma função media_vendas() para ler um arquivo csv e retornar o total de vendas no período. A função receberá diretamente a string lida de um arquivo csv que usa \", \" como separador. No arquivo, temos as seguintes colunas: data, produto, quantidade, valor. Note que a coluna \"valor\" corresponde ao preço unitário de cada produto, não o valor total da compra. Nosso objetivo é calcular o total de vendas, considerando todos os produtos registrados no arquivo.\n",
        "\n",
        "Obs.: arredonde a resposta final para duas casas decimais."
      ]
    },
    {
      "cell_type": "code",
      "execution_count": null,
      "metadata": {
        "id": "IilxolMwYx45"
      },
      "outputs": [],
      "source": [
        "csv = \"data, produto, quantidade, valor\\n20/10/2022, ventilador, 1, 120.00\\n19/20/2022, cadeira, 1, 335.55\\n07/07/2022, lampada, 3, 68.90\""
      ]
    },
    {
      "cell_type": "code",
      "execution_count": null,
      "metadata": {
        "id": "nlm-5BL8VZbv"
      },
      "outputs": [],
      "source": [
        "def media_vendas(vendas):\n",
        "    organizando_csv = vendas.split('\\n')\n",
        "    lista = []\n",
        "    for linha in organizando_csv[1:]:\n",
        "        elem_linha = linha.split(', ')\n",
        "        lista.append((int(elem_linha[-2])) * (float(elem_linha[-1])))\n",
        "    return round(sum(lista),2)"
      ]
    },
    {
      "cell_type": "code",
      "execution_count": null,
      "metadata": {
        "colab": {
          "base_uri": "https://localhost:8080/"
        },
        "id": "6_wAA396dfty",
        "outputId": "2209405d-6fe1-4f3b-c235-95972afceb90"
      },
      "outputs": [
        {
          "data": {
            "text/plain": [
              "662.25"
            ]
          },
          "execution_count": 32,
          "metadata": {},
          "output_type": "execute_result"
        }
      ],
      "source": [
        "media_vendas(csv)"
      ]
    },
    {
      "cell_type": "markdown",
      "metadata": {
        "id": "g9kNC9rWeBsS"
      },
      "source": [
        "## Mudança do delimitador do csv\n",
        "Comumente precisamos lidar com informações que já foram armazenadas em outros locais antes da execução do programa, como uma planilha do excel, de forma a fazer algum processamento com estas informações. Digamos, por exemplo, que uma empresa tenha armazenado dados sobre as vendas dos últimos 5 anos e queira saber a média anual dessas vendas, podemos acessar estes dados por meio da leitura de arquivos no python para, posteriormente, realizar o cálculo da média. Similarmente, também podemos salvar informações em arquivos no Python para acesso futuro. Utilizando o mesmo exemplo do histórico de vendas, podemos realizar os cálculos de média anual e salvá-lo em um arquivo para enviar para o gerente de vendas.\n",
        "\n",
        "Sabendo disso, supondo que uma empresa armazenou seu histórico de vendas como um arquivo csv usando \", \" como delimitador, e agora deseje salvar um novo arquivo csv cujos valores sehjam separados por \"\\t\". Faça uma funçãoconverte_sep() que receba uma string que contenha o conteúdo original do csv e retorna a string do arquivo csv com o novo separador."
      ]
    },
    {
      "cell_type": "code",
      "execution_count": null,
      "metadata": {
        "id": "xJtwLw0QennX"
      },
      "outputs": [],
      "source": [
        "csv = \"data, produto, quantidade, valor\\n20/10/2022, ventilador, 1, 120.00\\n19/20/2022, cadeira, 1, 335.55\\n07/07/2022, lampada, 3, 68.90\""
      ]
    },
    {
      "cell_type": "code",
      "execution_count": null,
      "metadata": {
        "id": "x3fhE6gAeFp9"
      },
      "outputs": [],
      "source": [
        "def converte_sep(valores):\n",
        "    linhas = valores.split('\\n')\n",
        "    linhas_ajustadas = []\n",
        "    for linha in linhas:\n",
        "        ajuste = linha.replace(', ', '\\t')\n",
        "        linhas_ajustadas.append(ajuste)\n",
        "        valores_ajustados = '\\n'.join(linhas_ajustadas)\n",
        "\n",
        "    return valores_ajustados"
      ]
    },
    {
      "cell_type": "code",
      "execution_count": null,
      "metadata": {
        "colab": {
          "base_uri": "https://localhost:8080/",
          "height": 53
        },
        "id": "xh9xyWl-fZ2e",
        "outputId": "3bb7b65b-4693-4d51-8b08-03ac66bfa5b6"
      },
      "outputs": [
        {
          "data": {
            "application/vnd.google.colaboratory.intrinsic+json": {
              "type": "string"
            },
            "text/plain": [
              "'data\\tproduto\\tquantidade\\tvalor\\n20/10/2022\\tventilador\\t1\\t120.00\\n19/20/2022\\tcadeira\\t1\\t335.55\\n07/07/2022\\tlampada\\t3\\t68.90'"
            ]
          },
          "execution_count": 36,
          "metadata": {},
          "output_type": "execute_result"
        }
      ],
      "source": [
        "converte_sep(csv)"
      ]
    },
    {
      "cell_type": "code",
      "execution_count": null,
      "metadata": {
        "id": "2HbgVTmSfKh0"
      },
      "outputs": [],
      "source": [
        "def converte_sep2(valores):\n",
        "    while ', ' in valores:\n",
        "        valores = valores.replace(', ', '\\t')\n",
        "    return valores"
      ]
    },
    {
      "cell_type": "code",
      "execution_count": null,
      "metadata": {
        "colab": {
          "base_uri": "https://localhost:8080/",
          "height": 53
        },
        "id": "44rGLbavf35v",
        "outputId": "837ebe00-5e98-4bca-cfde-87e3d1135d20"
      },
      "outputs": [
        {
          "data": {
            "application/vnd.google.colaboratory.intrinsic+json": {
              "type": "string"
            },
            "text/plain": [
              "'data\\tproduto\\tquantidade\\tvalor\\n20/10/2022\\tventilador\\t1\\t120.00\\n19/20/2022\\tcadeira\\t1\\t335.55\\n07/07/2022\\tlampada\\t3\\t68.90'"
            ]
          },
          "execution_count": 39,
          "metadata": {},
          "output_type": "execute_result"
        }
      ],
      "source": [
        "converte_sep2(csv)"
      ]
    },
    {
      "cell_type": "markdown",
      "metadata": {
        "id": "qFygN2KYgu-v"
      },
      "source": [
        "## Dados tabulares como lista de listas\n",
        "Em python, podemos trabalhar com dados tabulares em uma estrutura organizada na forma de lista de listas.\n",
        "\n",
        "Sabendo disso, crie uma função min_max_temperatura() que receba uma lista listas, cada uma com dois elementos: uma data, e uma temperatura. A função deve retornar uma lista com dois elementos: a data de temperatura máxima, e a data de temperatura mínima, nesta ordem."
      ]
    },
    {
      "cell_type": "code",
      "execution_count": null,
      "metadata": {
        "id": "dG0w1DW7gyFP"
      },
      "outputs": [],
      "source": [
        "def min_max_temperatura(temperaturas):\n",
        "    data = [data for data, temp in temperaturas]\n",
        "    temp = [temp for data, temp in temperaturas]\n",
        "\n",
        "    indice_temp_min = temp.index(min(temp))\n",
        "    indice_temp_max = temp.index(max(temp))\n",
        "\n",
        "    return [data[indice_temp_max], data[indice_temp_min]]"
      ]
    },
    {
      "cell_type": "code",
      "execution_count": null,
      "metadata": {
        "colab": {
          "base_uri": "https://localhost:8080/"
        },
        "id": "7MoTK-bzjxT-",
        "outputId": "e6081276-bcaa-477b-d843-6d457bf493fb"
      },
      "outputs": [
        {
          "data": {
            "text/plain": [
              "['31-01-2024', '01-02-2024']"
            ]
          },
          "execution_count": 43,
          "metadata": {},
          "output_type": "execute_result"
        }
      ],
      "source": [
        "temperaturas = lista_temperaturas = [[\"30-01-2024\", 23], [\"31-01-2024\", 25], [\"01-02-2024\", 20]]\n",
        "min_max_temperatura(temperaturas)"
      ]
    },
    {
      "cell_type": "markdown",
      "metadata": {
        "id": "P0PK9qfskcVQ"
      },
      "source": [
        "## Produto mais vendido no arquivo\n",
        "Comumente precisamos lidar com informações que já foram armazenadas em outros locais antes da execução do programa, como uma planilha do excel, de forma a fazer algum processamento com estas informações. Digamos, por exemplo, que uma empresa tenha armazenado dados sobre as vendas dos últimos 5 anos e queira saber a média anual dessas vendas. Podemos acessar estes dados por meio da leitura de arquivos no python para, posteriormente, realizar o cálculo da média. Similarmente, também podemos salvar informações em arquivos no Python para acesso futuro. Utilizando o mesmo exemplo do histórico de vendas, podemos realizar os cálculos de média anual e salvá-lo em um arquivo para enviar para o gerente de vendas.\n",
        "\n",
        "Sabendo disso, crie uma função produto_mais_vendido() para ler um arquivo csv com as vendas de uma loja e retornar o nome do produto mais vendido (em termos de quantidades de vendas) conforme registrado no arquivo. A função receberá diretamente a string lida de um arquivo csv que usa \", \" como separador. No arquivo, temos as seguintes colunas: data, produto, quantidade, valor."
      ]
    },
    {
      "cell_type": "code",
      "execution_count": null,
      "metadata": {
        "id": "eG9IbC63nHmT"
      },
      "outputs": [],
      "source": [
        "csv = \"data, produto, quantidade, valor\\n20/10/2022, ventilador, 1, 120.00\\n19/20/2022, cadeira, 1, 335.55\\n07/07/2022, lampada, 3, 68.90\""
      ]
    },
    {
      "cell_type": "code",
      "execution_count": null,
      "metadata": {
        "id": "rD02xgwjke9d"
      },
      "outputs": [],
      "source": [
        "def produto_mais_vendido(vendas):\n",
        "    linhas = vendas.split('\\n')\n",
        "    maior_quant = 0\n",
        "    prod_mais_vendido = ''\n",
        "    for linha in linhas[1:]:\n",
        "        data, produto, quantidade, valor =  linha.split(', ')\n",
        "        if int(quantidade) > int(maior_quant):\n",
        "            maior_quant = int(quantidade)\n",
        "            prod_mais_vendido = produto\n",
        "    return prod_mais_vendido"
      ]
    },
    {
      "cell_type": "code",
      "execution_count": null,
      "metadata": {
        "colab": {
          "base_uri": "https://localhost:8080/",
          "height": 35
        },
        "id": "P6RfFWnMmiiT",
        "outputId": "da60b721-3601-44bc-93e4-b51036358bac"
      },
      "outputs": [
        {
          "data": {
            "application/vnd.google.colaboratory.intrinsic+json": {
              "type": "string"
            },
            "text/plain": [
              "'lampada'"
            ]
          },
          "execution_count": 59,
          "metadata": {},
          "output_type": "execute_result"
        }
      ],
      "source": [
        "produto_mais_vendido(csv)"
      ]
    }
  ],
  "metadata": {
    "colab": {
      "provenance": []
    },
    "kernelspec": {
      "display_name": "Python 3",
      "name": "python3"
    },
    "language_info": {
      "name": "python"
    }
  },
  "nbformat": 4,
  "nbformat_minor": 0
}
