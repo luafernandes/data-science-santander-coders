{
  "cells": [
    {
      "cell_type": "markdown",
      "metadata": {
        "id": "QQmWdDA6sBD1"
      },
      "source": [
        "## Compreensão de dicionários\n",
        "Da mesma forma que utilizamos a sintaxe \"pythonica\" de compreensão de listas, podemos fazer uma estrutura semelhante para gerar dicionários. Sendo assim, crie uma função mediaAlunosParaDicionario() que receba uma lista de listas, em que o primeiro elemento é uma lista com os nomes dos alunos; e o segundo elemento é uma lista com suas respectivas médias. Utilizando compreensão de dicionários, armazene estes dados no dicionário de forma que cada aluno seja a chave e sua média seja o valor.\n",
        "\n",
        "OBS: caso a nota não esteja numérica, é necessário tratar os valores para tipos numéricos!"
      ]
    },
    {
      "cell_type": "code",
      "execution_count": 1,
      "metadata": {
        "id": "E8-Idwtar9fn"
      },
      "outputs": [],
      "source": [
        "def mediaAlunosParaDicionario(listaAlunos):\n",
        "    # Verificando se a entrada é válida\n",
        "    if len(listaAlunos) != 2 or len(listaAlunos[0]) != len(listaAlunos[1]):\n",
        "        return \"Erro: as duas listas ([nomes],[medias]) precisam ter o mesmo tamanho.\"\n",
        "\n",
        "    nomes, medias = listaAlunos # descompactando a lista listaAlunos\n",
        "    alunos_medias = {}\n",
        "\n",
        "    for nome, media in zip(nomes, medias):\n",
        "        try:\n",
        "            conversao_media = float(media)\n",
        "        except ValueError:\n",
        "            conversao_media = 0.0\n",
        "\n",
        "        alunos_medias[nome] = conversao_media\n",
        "\n",
        "    return alunos_medias"
      ]
    },
    {
      "cell_type": "code",
      "execution_count": 2,
      "metadata": {
        "colab": {
          "base_uri": "https://localhost:8080/"
        },
        "id": "wC8_sxreuTRe",
        "outputId": "3296d7e5-d7ef-43e5-ee7e-df6f42e1e29f"
      },
      "outputs": [
        {
          "data": {
            "text/plain": [
              "{'Karina': 9.0, 'Luciana': 0.0}"
            ]
          },
          "execution_count": 2,
          "metadata": {},
          "output_type": "execute_result"
        }
      ],
      "source": [
        "listaAlunos = [['Karina', 'Luciana'], ['9', 'nove']]\n",
        "mediaAlunosParaDicionario(listaAlunos)"
      ]
    },
    {
      "cell_type": "markdown",
      "metadata": {
        "id": "coQjofrHxvzd"
      },
      "source": [
        "## Filtrando elementos por funções lambda\n",
        "Em programação, temos que pensar não apenas na implementação do código propriamente dito para execução correta da tarefa desejada, como também na melhor forma de realizar esta implementação. Com isso, paradigmas de programação foram criados para auxiliar o programador a pensar diferente.\n",
        "\n",
        "Um desses paradigmas é a programação funcional, cujo objetivo é aumentar o determinismo do programa de forma que, caso o programa seja escalável e se torne muito grande, os desenvolvedores não percam o controle do código. Uma forma de fazer programação funcional é por meio de funções lambdas, também conhecidas como \"funções anônimas\", tendo esse nome porque não precisam ser declaradas com um nome.\n",
        "\n",
        "Sabendo disso, crie uma função filtraElementos() que recebe uma lista e utiliza função lambda para filtrar os elementos maiores que 10, ou seja, a função deve retornar uma lista apenas com estes elementos maiores que 10.\n",
        "\n",
        "OBS: em um cenário real, a função filtraElementos() seria utilizada para outras funcionalidades também além da utilização da lambda, de forma a melhorar o determinismo do código."
      ]
    },
    {
      "cell_type": "code",
      "execution_count": 3,
      "metadata": {
        "id": "A8w_ippOyRTm"
      },
      "outputs": [],
      "source": [
        "def filtraElementos(listaA):\n",
        "    return list(filter(lambda elem: elem > 10, listaA))"
      ]
    },
    {
      "cell_type": "code",
      "execution_count": 4,
      "metadata": {
        "colab": {
          "base_uri": "https://localhost:8080/"
        },
        "id": "-fDbffyzzz6p",
        "outputId": "9ab63cbe-c795-4125-be94-8d1a589b13f3"
      },
      "outputs": [
        {
          "data": {
            "text/plain": [
              "[19, 15, 18, 250]"
            ]
          },
          "execution_count": 4,
          "metadata": {},
          "output_type": "execute_result"
        }
      ],
      "source": [
        "listaA = [19, 3, 7, 15, 18, 250, -5]\n",
        "filtraElementos(listaA)"
      ]
    },
    {
      "cell_type": "markdown",
      "metadata": {
        "id": "FJTxJyemyQNO"
      },
      "source": [
        "## Expressões geradoras para tuplas\n",
        "Também é possível utilizar expressão geradoras para construir tuplas. Sendo assim, crie a função getQuadrado() que recebe uma tupla de elementos numéricos, e retorna uma tupla com o quadrado de cada elemento da tupla original."
      ]
    },
    {
      "cell_type": "code",
      "execution_count": 5,
      "metadata": {
        "id": "HeCxV0KB0HV1"
      },
      "outputs": [],
      "source": [
        "def getQuadrado(tuplaA):\n",
        "    quadrados = tuple(elem ** 2 for elem in tuplaA)\n",
        "    return quadrados"
      ]
    },
    {
      "cell_type": "code",
      "execution_count": 6,
      "metadata": {
        "colab": {
          "base_uri": "https://localhost:8080/"
        },
        "id": "mOUDYLbx00nS",
        "outputId": "fac0ec6e-dfb5-4d3a-bc46-78aba6ea452b"
      },
      "outputs": [
        {
          "data": {
            "text/plain": [
              "(25, 9, 49, 64)"
            ]
          },
          "execution_count": 6,
          "metadata": {},
          "output_type": "execute_result"
        }
      ],
      "source": [
        "tuplaA = (5,3,7,8)\n",
        "getQuadrado(tuplaA)"
      ]
    },
    {
      "cell_type": "markdown",
      "metadata": {
        "id": "1XTslOCi0G11"
      },
      "source": [
        "## Retorna consoantes\n",
        "Muitas vezes quando estamos trabalhando com strings, pode ser bem útil usarmos compreensão de listas para processar caractere a caractere. Sabendo disso, crie uma função encontraConsoantes que retorna uma string com todas as consoantes (e apenas as consoantes!) de uma dada frase de input."
      ]
    },
    {
      "cell_type": "code",
      "execution_count": 7,
      "metadata": {
        "id": "BKbO9eQi1U2Y"
      },
      "outputs": [],
      "source": [
        "def encontraConsoantes(listaStrings):\n",
        "    vogais = ['a', 'e', 'i', 'o', 'u']\n",
        "    consoantes = []\n",
        "    for char in listaStrings:\n",
        "        if char.lower() not in vogais and char.isalpha():\n",
        "            consoantes.append(char)\n",
        "    return ''.join(consoantes)"
      ]
    },
    {
      "cell_type": "code",
      "execution_count": 8,
      "metadata": {
        "colab": {
          "base_uri": "https://localhost:8080/",
          "height": 36
        },
        "id": "L1WPDSYF2nQE",
        "outputId": "93bea258-1e27-4f81-b297-0603a0e65688"
      },
      "outputs": [
        {
          "data": {
            "application/vnd.google.colaboratory.intrinsic+json": {
              "type": "string"
            },
            "text/plain": [
              "'cêncdddséssnclprdsvndrnsghtsvlss'"
            ]
          },
          "execution_count": 8,
          "metadata": {},
          "output_type": "execute_result"
        }
      ],
      "source": [
        "listaStrings = 'A ciência de dados é essencial para desvendar insights valiosos.'\n",
        "encontraConsoantes(listaStrings)"
      ]
    },
    {
      "cell_type": "markdown",
      "metadata": {
        "id": "G26d_APw3eze"
      },
      "source": [
        "## Dicionário cujos valores são listas\n",
        "Em determinadas situações, é necessário agrupar informações de acordo com alguma dada característica para facilitar o acesso a essas informações. Uma estrutura em python que armazena informações seguindo essa organização são dicionários.\n",
        "\n",
        "Um exemplo de uso comum de dicionários são cadastros de clientes, em que, por exemplo, um elemento do dicionário pode ser o nome dos clientes, outro elemento o emprego outro o estado de habitação. Quando quisermos utilizar apenas as informações de estado, selecionamos apenas este elemento do dicionário, utilizando a respectiva chave como indexador do dicionário.\n",
        "\n",
        "Sabendo disso, crie uma função mediaPrecoCelular() que receba um dicionário que possui a chave \"valor\", e retorne uma lista com: a média dos valores existentes nesta chave, o celular mais barato, e o mais caro, nesta ordem."
      ]
    },
    {
      "cell_type": "code",
      "execution_count": 9,
      "metadata": {
        "id": "61-Kc7wW3i9g"
      },
      "outputs": [],
      "source": [
        "def mediaPrecoCelular(dictCelulares):\n",
        "    valores = dictCelulares['valor']\n",
        "\n",
        "    media = sum(valores) / len(valores)\n",
        "    menor_preco = min(valores)\n",
        "    maior_preco = max(valores)\n",
        "\n",
        "    return [media, menor_preco, maior_preco]"
      ]
    },
    {
      "cell_type": "code",
      "execution_count": 10,
      "metadata": {
        "colab": {
          "base_uri": "https://localhost:8080/"
        },
        "id": "xLuq-bdD4hxS",
        "outputId": "11c9d0d6-4dbb-45a8-b8b7-0d075ce24732"
      },
      "outputs": [
        {
          "data": {
            "text/plain": [
              "[3125.0, 1500, 5000]"
            ]
          },
          "execution_count": 10,
          "metadata": {},
          "output_type": "execute_result"
        }
      ],
      "source": [
        "dictCelulares = {'modelo':['Iphone', 'Xiaomi Poco', 'Galaxy', 'Xiaomi Redmi'], 'valor':[5000, 2100, 3900, 1500]}\n",
        "mediaPrecoCelular(dictCelulares)"
      ]
    },
    {
      "cell_type": "markdown",
      "metadata": {
        "id": "OuDGkYcI6Chr"
      },
      "source": [
        "## Usando Dicionário para Calcular Quadrado de Números\n",
        "Dicionários são estruturas de dados muito úteis e flexíveis, podendo, inclusive, ser construídos a partir de outras estruturas, como listas.\n",
        "\n",
        "Sabendo disso, crie uma função dicionarioQuadrados() que receba uma lista números e gera um dicionário, de forma que cada chave do dicionário seja um elemento da lista e cada valor seja este elemento ao quadrado."
      ]
    },
    {
      "cell_type": "code",
      "execution_count": 11,
      "metadata": {
        "id": "N7ucsmMT6EOh"
      },
      "outputs": [],
      "source": [
        "def dicionarioQuadrados(listaA):\n",
        "    quadrados = {}\n",
        "    for elem in listaA:\n",
        "        quadrado = elem ** 2\n",
        "        if elem not in quadrados:\n",
        "            quadrados[elem] = quadrado\n",
        "    return quadrados"
      ]
    },
    {
      "cell_type": "markdown",
      "metadata": {
        "id": "6GLd5Xq0SQSV"
      },
      "source": [
        "##### Neste código é realizada a verificação se o elemento já está presente no dicionário antes de adicionar o quadrado ao dicionário. Isso significa que se houver elementos repetidos na lista de entrada, apenas o quadrado do primeiro elemento repetido será adicionado ao dicionário."
      ]
    },
    {
      "cell_type": "code",
      "execution_count": 12,
      "metadata": {
        "colab": {
          "base_uri": "https://localhost:8080/"
        },
        "id": "iuXtf5ak8VVQ",
        "outputId": "bdb1c7d9-731c-40ea-c7d8-65d371ca53a4"
      },
      "outputs": [
        {
          "data": {
            "text/plain": [
              "{2: 4, 3: 9, 7: 49, 10: 100, -1: 1}"
            ]
          },
          "execution_count": 12,
          "metadata": {},
          "output_type": "execute_result"
        }
      ],
      "source": [
        "listaA = [2,3,7,10,-1]\n",
        "dicionarioQuadrados(listaA)"
      ]
    },
    {
      "cell_type": "markdown",
      "metadata": {
        "id": "Huh-xypRSdZl"
      },
      "source": [
        "##### Já no código abaixo, o código calculará o quadrado de cada elemento, porém se houver elementos repetidos o quadrado de cada elemento repetido será adicionado ao dicionário, e o valor associado à chave será o quadrado correspondente ao último elemento repetido na lista."
      ]
    },
    {
      "cell_type": "code",
      "execution_count": 13,
      "metadata": {
        "id": "eBcTU9sC9LVR"
      },
      "outputs": [],
      "source": [
        "def dicionarioQuadrados(listaB):\n",
        "    quadrados = {}\n",
        "    for elem in listaB:\n",
        "        quadrado = elem ** 2\n",
        "        quadrados[elem] = quadrado\n",
        "    return quadrados"
      ]
    },
    {
      "cell_type": "code",
      "execution_count": 23,
      "metadata": {
        "colab": {
          "base_uri": "https://localhost:8080/"
        },
        "id": "DPX0vOdK9So2",
        "outputId": "9ac3c177-6c43-48e2-a6c8-a1793c393a44"
      },
      "outputs": [
        {
          "data": {
            "text/plain": [
              "{8: 64, 3: 9, 2: 4, 4: 16, 7: 49, 9: 81, 10: 100}"
            ]
          },
          "execution_count": 23,
          "metadata": {},
          "output_type": "execute_result"
        }
      ],
      "source": [
        "listaB = [8,3,2,4,7,3,9,10]\n",
        "dicionarioQuadrados(listaB)"
      ]
    },
    {
      "cell_type": "markdown",
      "metadata": {
        "id": "Omd4XQa68yoc"
      },
      "source": [
        "## Encontrando números divisíveis por 7\n",
        "Uma forma \"pythonica\" de iterarmos por listas é por meio de compreensão de listas, que substitui o uso de um laço de repetição for tal como implementamos tradicionalmente para a criação de novas listas.\n",
        "\n",
        "Sabendo disso, digamos que em um sistema desejemos buscar, entre 1000 usuários, apenas aqueles cujo ID é divisível por 7. Faça uma função numerosDiv7() para este sistema que receba uma lista A de 1000 elementos e retorne uma lista apenas com os elementos de A que são divisíveis por 7.\n",
        "\n",
        "OBS: Caso existam elementos repetidos na lista, a saída deverá exibir apenas os elementos únicos divisíveis por 7. E se não houver elementos divisíveis por 7, o programa deve retornar uma lista vazia."
      ]
    },
    {
      "cell_type": "code",
      "execution_count": 30,
      "metadata": {
        "id": "kpIY8ohwKwmr"
      },
      "outputs": [],
      "source": [
        "# Usando list comprehension\n",
        "\n",
        "def numerosDiv7(listaB):\n",
        "    return [elem for elem in listaB if elem % 7 == 0]"
      ]
    },
    {
      "cell_type": "code",
      "execution_count": 31,
      "metadata": {
        "colab": {
          "base_uri": "https://localhost:8080/"
        },
        "id": "R04MTku9Le8-",
        "outputId": "a412e0b4-80d4-4f85-d7aa-01bc43896794"
      },
      "outputs": [
        {
          "data": {
            "text/plain": [
              "[14, 98, 84, 7]"
            ]
          },
          "execution_count": 31,
          "metadata": {},
          "output_type": "execute_result"
        }
      ],
      "source": [
        "listaB = [2,8,14,98,84,17,7]\n",
        "numerosDiv7(listaB)"
      ]
    },
    {
      "cell_type": "code",
      "execution_count": 32,
      "metadata": {
        "id": "ZmwO1DHyDoz8"
      },
      "outputs": [],
      "source": [
        "# Usando laço de repetição\n",
        "\n",
        "def numerosDiv7(listaC):\n",
        "\tdivisiveis_por_7=[]\n",
        "\tfor elem in listaC:\n",
        "\t\tif elem % 7==0 and elem not in divisiveis_por_7:\n",
        "\t\t\tdivisiveis_por_7.append(elem)\n",
        "\treturn sorted(divisiveis_por_7)"
      ]
    },
    {
      "cell_type": "code",
      "execution_count": 33,
      "metadata": {
        "colab": {
          "base_uri": "https://localhost:8080/"
        },
        "id": "6YmCBz_nLlvQ",
        "outputId": "8c0eb670-406a-4c99-9031-7e0687b5f581"
      },
      "outputs": [
        {
          "data": {
            "text/plain": [
              "[7, 28, 77]"
            ]
          },
          "execution_count": 33,
          "metadata": {},
          "output_type": "execute_result"
        }
      ],
      "source": [
        "listaC = [-8, 7, 28, 54, 77, 107]\n",
        "numerosDiv7(listaC)"
      ]
    },
    {
      "cell_type": "markdown",
      "metadata": {
        "id": "4rERHtojDvEL"
      },
      "source": [
        "## Remoção de espaços extras de strings\n",
        "É comum em sistemas de cadastro, os clientes preencherem dados com caracteres ou espaços indesejáveis. Sendo assim, implemente uma função remove_espaco(listaStrings) que recebe uma lista de strings e retire espaços extras que possam haver no início, meio ou no fim de uma string.\n",
        "\n",
        "Por exemplo,\n",
        "\n",
        "entrada:\n",
        "```\n",
        "[\"  string\", \"  exemplo  \", \"do   exercício\"]\n",
        "```\n",
        "\n",
        "saída:\n",
        "\n",
        "```\n",
        "[\"string\", \"exemplo\", \"do exercício\"]\n",
        "```\n"
      ]
    },
    {
      "cell_type": "code",
      "execution_count": 21,
      "metadata": {
        "id": "tgxryEkJEU_0"
      },
      "outputs": [],
      "source": [
        "def remove_espacos(listaStrings):\n",
        "    lista_ajustada = []\n",
        "    for char in listaStrings:\n",
        "        string_sem_espaco = ' '.join(char.split())\n",
        "        lista_ajustada.append(string_sem_espaco)\n",
        "    return lista_ajustada"
      ]
    },
    {
      "cell_type": "code",
      "execution_count": 22,
      "metadata": {
        "colab": {
          "base_uri": "https://localhost:8080/"
        },
        "id": "Q7SyVh7IGpng",
        "outputId": "311593c4-e56a-4d02-e00e-1de095136486"
      },
      "outputs": [
        {
          "name": "stdout",
          "output_type": "stream",
          "text": [
            "['  Luciana', '27    anos', 'Brasil ']\n"
          ]
        },
        {
          "data": {
            "text/plain": [
              "['Luciana', '27 anos', 'Brasil']"
            ]
          },
          "execution_count": 22,
          "metadata": {},
          "output_type": "execute_result"
        }
      ],
      "source": [
        "listaStrings = ['  Luciana', '27    anos', 'Brasil ']\n",
        "\n",
        "print(listaStrings)\n",
        "remove_espacos(listaStrings)"
      ]
    }
  ],
  "metadata": {
    "colab": {
      "provenance": []
    },
    "kernelspec": {
      "display_name": "Python 3",
      "name": "python3"
    },
    "language_info": {
      "name": "python"
    }
  },
  "nbformat": 4,
  "nbformat_minor": 0
}
